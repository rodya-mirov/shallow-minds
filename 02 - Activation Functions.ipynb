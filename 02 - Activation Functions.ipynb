{
 "cells": [
  {
   "cell_type": "markdown",
   "metadata": {},
   "source": [
    "# Activation Functions\n",
    "\n",
    "We'll use graphs for this notebook, as well as numpy, so let's get that rolling:"
   ]
  },
  {
   "cell_type": "code",
   "execution_count": 1,
   "metadata": {
    "collapsed": true
   },
   "outputs": [],
   "source": [
    "# This makes our charts appear in the notebook, instead of a useless popup window.\n",
    "%matplotlib inline\n",
    "\n",
    "import numpy as np\n",
    "from matplotlib import pyplot as plt"
   ]
  },
  {
   "cell_type": "markdown",
   "metadata": {},
   "source": [
    "In this notebook, we will discuss various activation functions.  All of these will be useful at some time or another, and all of them will work with the code we've already written.  Thus we might imagine the code for each function will look like this:"
   ]
  },
  {
   "cell_type": "code",
   "execution_count": 2,
   "metadata": {
    "collapsed": true
   },
   "outputs": [],
   "source": [
    "def act(z):\n",
    "    return z+1"
   ]
  },
  {
   "cell_type": "markdown",
   "metadata": {},
   "source": [
    "The inputs to our functions will always be numpy arrays, so the code should automatically vectorize. In practice this is not difficult; numpy has designed its notation so that this usually works automatically.\n",
    "\n",
    "Also, for the purposes of training our neural networks, we will need the derivatives of each of these functions as well.  Thus, our code might look more like this:"
   ]
  },
  {
   "cell_type": "code",
   "execution_count": 3,
   "metadata": {
    "collapsed": true
   },
   "outputs": [],
   "source": [
    "def act(z, diff=False):\n",
    "    if diff:\n",
    "        return 1\n",
    "    else:\n",
    "        return z+1"
   ]
  },
  {
   "cell_type": "markdown",
   "metadata": {},
   "source": [
    "The conditional seems inefficient, but it's only doing it once for the whole matrix, so it doesn't really cost much, and it makes our usage code a lot more efficient.\n",
    "\n",
    "We really do spend a lot of time computing these functions, which often involve expensive functions like `exp` or `tanh`.  Often the derivative can be computed without use of these expensive functions, if we already have the output of the function itself; that is, we could compute $f'(z)$ efficiently from $f(z)$.\n",
    "\n",
    "Conveniently, we always need $f'(z)$ after we have already computed $f(z)$, so this is easy to accomplish.  Our final schema looks like this:"
   ]
  },
  {
   "cell_type": "code",
   "execution_count": 4,
   "metadata": {
    "collapsed": true
   },
   "outputs": [],
   "source": [
    "def act(z, y=None, diff=False):\n",
    "    if diff:\n",
    "        return 1\n",
    "    else:\n",
    "        return z+1"
   ]
  },
  {
   "cell_type": "markdown",
   "metadata": {},
   "source": [
    "We'll have some check so that if $y$ is already computed, we can take advantage of it."
   ]
  },
  {
   "cell_type": "markdown",
   "metadata": {},
   "source": [
    "## Sigmoid\n",
    "\n",
    "The most common function used in this context is the sigmoid function, although recent research suggests it may not be the best option.  It's easy to work with, though.  The formula is simply this: $$f(z)=\\dfrac{1}{1+e^{-z}}$$\n",
    "\n",
    "The derivative is $$f'(z)=-e^{-z}\\cdot (1+e^{-z})^{-2}$$\n",
    "\n",
    "This derivative involves two exponentials, although they're the same exponential and we could save the result.  It can be rearranged in various ways, but it'll never not involve an exponential.  However, this function has a cute shortcut: $$f'(z)=f(z)\\cdot (1-f(z))$$\n",
    "\n",
    "Clearly this is cheap to compute.  Our code looks like this:"
   ]
  },
  {
   "cell_type": "code",
   "execution_count": 5,
   "metadata": {
    "collapsed": true
   },
   "outputs": [],
   "source": [
    "def act_sigmoid(z, y=None, diff=False):\n",
    "    if diff:\n",
    "        if y is None:\n",
    "            ex = np.exp(-z)\n",
    "            return -ex / ((1+ex)**2)\n",
    "        else:\n",
    "            return y*(1-y)\n",
    "    else:\n",
    "        return 1 / (1 + np.exp(-z))"
   ]
  },
  {
   "cell_type": "markdown",
   "metadata": {},
   "source": [
    "The graph looks like this:"
   ]
  },
  {
   "cell_type": "code",
   "execution_count": 6,
   "metadata": {
    "collapsed": false
   },
   "outputs": [
    {
     "data": {
      "image/png": "[encoded data removed]",
      "text/plain": [
       "<matplotlib.figure.Figure at 0x7fdac59d1ba8>"
      ]
     },
     "metadata": {},
     "output_type": "display_data"
    }
   ],
   "source": [
    "x = np.linspace(-10, 10, 100)\n",
    "y = act_sigmoid(x)\n",
    "\n",
    "plt.plot(x, y)\n",
    "plt.show()"
   ]
  },
  {
   "cell_type": "markdown",
   "metadata": {},
   "source": [
    "The sigmoid function gives $0.5$ when given zero, and is increasing -- so larger arguments get larger, to a maximum of one, and smaller (more negative) arguments get smaller, to a minimum of zero.  The function is everywhere smooth and well-behaved.\n",
    "\n",
    "It is important to note that, while this function is popular in the basic literature, new research suggests this function is **unsuitable for deep neural networks** (see for example Glorot and Bengio, 2010). The problem is that for \"random\" input, it outputs 0.5.  When you feed 0.5 into the sigmoid, you get a bit higher number, and after a few levels of composition, it's very close to 1 with a very small derivative.  This means it has difficulty changing its behavior and has difficulty doing anything useful.\n",
    "\n",
    "This problem is called \"saturation.\"  Giving enough training time, it will eventually overcome it, but training time is expensive.  Indeed in experiments with a mere 5-level network using sigmoid activations, the network \"never overcame the saturation\" (again, Glorot and Bengio 2010).  In any case, other activation functions tend to be better, which we discuss now."
   ]
  },
  {
   "cell_type": "markdown",
   "metadata": {},
   "source": [
    "## Hyperbolic Tangent\n",
    "\n",
    "Another very common function used in this context is the hyperbolic tangent function, which is also quite well-behaved.  The formula is simply: $$f(z)=\\tanh(z)$$\n",
    "\n",
    "Note that there are many rephrasings of this definition involving exponentials, but numpy has a built-in implementation of $\\tanh$ which is efficient, so there's no need to re-implement anything.\n",
    "\n",
    "Happily, the derivative is very convenient to compute: $$f'(z)=\\textrm{sech}^2(z)=1-\\tanh^2(z)=1-(f(z))^2$$"
   ]
  },
  {
   "cell_type": "code",
   "execution_count": 7,
   "metadata": {
    "collapsed": true
   },
   "outputs": [],
   "source": [
    "def act_tanh(z, y=None, diff=False):\n",
    "    if diff:\n",
    "        if y is None:\n",
    "            y = np.tanh(z)\n",
    "        return 1-y*y\n",
    "    else:\n",
    "        return np.tanh(z)"
   ]
  },
  {
   "cell_type": "markdown",
   "metadata": {},
   "source": [
    "The graph looks like this:"
   ]
  },
  {
   "cell_type": "code",
   "execution_count": 8,
   "metadata": {
    "collapsed": false
   },
   "outputs": [
    {
     "data": {
      "image/png": "[encoded data removed]",
      "text/plain": [
       "<matplotlib.figure.Figure at 0x7fdac59c0908>"
      ]
     },
     "metadata": {},
     "output_type": "display_data"
    }
   ],
   "source": [
    "x = np.linspace(-10, 10, 100)\n",
    "y = act_tanh(x)\n",
    "\n",
    "plt.plot(x, y)\n",
    "plt.show()"
   ]
  },
  {
   "cell_type": "markdown",
   "metadata": {},
   "source": [
    "It's a little steeper than the sigmoid function, but the shape is approximately the same.  Also, when you plug in zero, you get zero, and the output ranges from $-1$ to $1$, which is often convenient."
   ]
  },
  {
   "cell_type": "markdown",
   "metadata": {},
   "source": [
    "## Identity (No Activation)\n",
    "\n",
    "For input or hidden nodes, it's important to give a nonlinear activation function, so that the layer isn't a waste of time.  However, for regression networks (as opposed to classification), the output neurons should be unbounded, and it seems to work well to simply not to activate them at all.  Thus:\n",
    "\n",
    "$$f(z)=z$$\n",
    "$$f'(z)=1$$\n",
    "\n",
    "The code is quite easy to code up, of course: "
   ]
  },
  {
   "cell_type": "code",
   "execution_count": 9,
   "metadata": {
    "collapsed": true
   },
   "outputs": [],
   "source": [
    "def act_identity(z, y=None, diff=False):\n",
    "    if diff:\n",
    "        return 1\n",
    "    else:\n",
    "        return z"
   ]
  },
  {
   "cell_type": "markdown",
   "metadata": {},
   "source": [
    "## LeRU (Leaky Rectifier Unit)\n",
    "\n",
    "A final activation function, which in recent years has been shown to be extremely useful for deep networks, is called a LeRU -- a leaky rectifier unit.\n",
    "\n",
    "A rectifier unit is a piecewise function: if the input $z$ is positive, it returns $z$. If $z$ is nonpositive, it returns 0.\n",
    "\n",
    "A *leaky* rectifier unit return $az$ if $z<0$, where $a$ is a small constant.  If $a=0$ this is just the usual rectifier unit; if $a$ is slightly positive, this lets the output reflect the input a bit more, going negative.  Both choices are common.\n",
    "\n",
    "Coding it is slightly more involved, because we don't want to add another parameter to our activation function. Instead we'll make a LeRU factory."
   ]
  },
  {
   "cell_type": "code",
   "execution_count": 10,
   "metadata": {
    "collapsed": true
   },
   "outputs": [],
   "source": [
    "def act_LeRU_maker(leakage=0):\n",
    "    def f(z, y=None, diff=False):\n",
    "        if diff:\n",
    "            return np.where(z>0, 1, leakage)\n",
    "        else:\n",
    "            return np.where(z>0, z, leakage*z)\n",
    "    \n",
    "    return f\n",
    "\n",
    "act_LeRU = act_LeRU_maker(leakage=0)"
   ]
  },
  {
   "cell_type": "markdown",
   "metadata": {},
   "source": [
    "For simplicity, and because this is the most common usage, we've included `act_LeRU` as the default LeRU activation function.  Here is its graph, exactly as described:"
   ]
  },
  {
   "cell_type": "code",
   "execution_count": 11,
   "metadata": {
    "collapsed": false
   },
   "outputs": [
    {
     "data": {
      "image/png": "[encoded data removed]",
      "text/plain": [
       "<matplotlib.figure.Figure at 0x7fdac59c0dd8>"
      ]
     },
     "metadata": {},
     "output_type": "display_data"
    }
   ],
   "source": [
    "x = np.linspace(-10, 10, 100)\n",
    "y = act_LeRU(x)\n",
    "\n",
    "plt.plot(x, y)\n",
    "plt.show()"
   ]
  },
  {
   "cell_type": "markdown",
   "metadata": {},
   "source": [
    "It's worth pointing out that technically, the LeRU functions are non-differentiable at zero.  It's possible to consider this problematic, and consider the \"softplus\" function, $y=\\ln(1+e^x)$.  This function is smooth everywhere, which is convenient, and the effect is a somewhat smoothed out version of the original function.  See the graphs together:"
   ]
  },
  {
   "cell_type": "code",
   "execution_count": 12,
   "metadata": {
    "collapsed": false,
    "scrolled": true
   },
   "outputs": [
    {
     "data": {
      "image/png": "[encoded data removed]",
      "text/plain": [
       "<matplotlib.figure.Figure at 0x7fdac38deb70>"
      ]
     },
     "metadata": {},
     "output_type": "display_data"
    }
   ],
   "source": [
    "x = np.linspace(-10, 10, 100)\n",
    "y = act_LeRU(x)\n",
    "z = np.log(1+np.exp(x))\n",
    "\n",
    "plt.plot(x, y)\n",
    "plt.plot(x, z)\n",
    "plt.show()"
   ]
  },
  {
   "cell_type": "markdown",
   "metadata": {},
   "source": [
    "It's a pretty good approximation, but it's expensive to compute. Additionally, its derivative is $f'(x)=\\frac{1}{1+e^{-x}}$ (coincidentally, this is sigmoid function, although this is not useful for us), and we don't have a shortcut for its derivative, so it hurts twice.\n",
    "\n",
    "More importantly, it's not clear what we gain.  There are very few problems that actually arise from this non-differentiability in practice, so we'll just use the default LeRU.  However, just for sake of completeness, we will include an implementation of softplus:"
   ]
  },
  {
   "cell_type": "code",
   "execution_count": 13,
   "metadata": {
    "collapsed": true
   },
   "outputs": [],
   "source": [
    "def act_softplus(z, y=None, diff=False):\n",
    "    if diff:\n",
    "        return 1 / (1 + np.exp(-z))\n",
    "    else:\n",
    "        return np.log(1+np.exp(z))"
   ]
  }
 ],
 "metadata": {
  "kernelspec": {
   "display_name": "Python 3",
   "language": "python",
   "name": "python3"
  },
  "language_info": {
   "codemirror_mode": {
    "name": "ipython",
    "version": 3
   },
   "file_extension": ".py",
   "mimetype": "text/x-python",
   "name": "python",
   "nbconvert_exporter": "python",
   "pygments_lexer": "ipython3",
   "version": "3.5.1"
  }
 },
 "nbformat": 4,
 "nbformat_minor": 0
}
